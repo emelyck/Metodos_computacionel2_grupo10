{
 "cells": [
  {
   "cell_type": "code",
   "execution_count": 15,
   "metadata": {},
   "outputs": [],
   "source": [
    "import numpy as np\n",
    "import pandas as pd\n",
    "import matplotlib.pyplot as plt\n",
    "import math\n",
    "from scipy.signal import find_peaks, peak_widths\n",
    "from scipy.optimize import curve_fit\n",
    "from scipy.interpolate import interp1d\n"
   ]
  },
  {
   "cell_type": "code",
   "execution_count": 16,
   "metadata": {},
   "outputs": [],
   "source": [
    "# Filtrado y carga de datos de manchas solares\n",
    "\n",
    "datos = pd.read_csv(\"manchas.txt\", sep=r'\\s+', header=1, names=[\"Year\", \"Month\", \"Day\", \"SSN\"], engine=\"python\")\n",
    "\n",
    "datos = datos.dropna()\n",
    "\n",
    "datos_filtrados = datos[datos[\"Year\"] <= 2012]\n",
    "\n",
    "year = datos_filtrados[\"Year\"].to_numpy()\n",
    "month = datos_filtrados[\"Month\"].to_numpy()\n",
    "day = datos_filtrados[\"Day\"].to_numpy()\n",
    "ssn = datos_filtrados[\"SSN\"].to_numpy()\n",
    "\n"
   ]
  }
 ],
 "metadata": {
  "kernelspec": {
   "display_name": "Python 3",
   "language": "python",
   "name": "python3"
  },
  "language_info": {
   "codemirror_mode": {
    "name": "ipython",
    "version": 3
   },
   "file_extension": ".py",
   "mimetype": "text/x-python",
   "name": "python",
   "nbconvert_exporter": "python",
   "pygments_lexer": "ipython3",
   "version": "3.13.1"
  }
 },
 "nbformat": 4,
 "nbformat_minor": 2
}
